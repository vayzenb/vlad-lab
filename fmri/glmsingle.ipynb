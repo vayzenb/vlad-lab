{
 "cells": [
  {
   "cell_type": "code",
   "execution_count": 5,
   "id": "d8929b57",
   "metadata": {},
   "outputs": [
    {
     "name": "stdout",
     "output_type": "stream",
     "text": [
      "directory to save example dataset:\n",
      "\t/zpool/vladlab/data_drive/fmri_tutorial/glmsingle_data\n",
      "\n",
      "directory to save example2 outputs:\n",
      "\t/zpool/vladlab/data_drive/fmri_tutorial/glmsingle_output\n",
      "\n"
     ]
    }
   ],
   "source": [
    "import numpy as np\n",
    "import pandas as pd\n",
    "import scipy\n",
    "import scipy.stats as stats\n",
    "import scipy.io as sio\n",
    "import matplotlib.pyplot as plt\n",
    "import nibabel as nib\n",
    "\n",
    "import os\n",
    "from os.path import join, exists, split\n",
    "import sys\n",
    "import time\n",
    "import urllib.request\n",
    "import copy\n",
    "import warnings\n",
    "from tqdm import tqdm\n",
    "from pprint import pprint\n",
    "warnings.filterwarnings('ignore')\n",
    "\n",
    "import glmsingle\n",
    "from glmsingle.glmsingle import GLM_single\n",
    "\n",
    "# note: the fracridge repository is also necessary to run this code\n",
    "# for example, you could do:\n",
    "#      git clone https://github.com/nrdg/fracridge.git\n",
    "\n",
    "datadir = '/zpool/vladlab/data_drive/fmri_tutorial/glmsingle_data'\n",
    "outputdir = '/zpool/vladlab/data_drive/fmri_tutorial/glmsingle_output'\n",
    "# get path to the directory to which GLMsingle was installed\n",
    "os.makedirs(datadir,exist_ok=True)\n",
    "os.makedirs(outputdir,exist_ok=True)\n",
    "\n",
    "print(f'directory to save example dataset:\\n\\t{datadir}\\n')\n",
    "print(f'directory to save example2 outputs:\\n\\t{outputdir}\\n')"
   ]
  },
  {
   "cell_type": "code",
   "execution_count": 6,
   "id": "4a719098",
   "metadata": {},
   "outputs": [
    {
     "name": "stdout",
     "output_type": "stream",
     "text": [
      "Downloading example dataset and saving to:\n",
      "/zpool/vladlab/data_drive/fmri_tutorial/glmsingle_data/nsdflocexampledataset.mat\n"
     ]
    }
   ],
   "source": [
    "# download example dataset from GLMsingle OSF repository\n",
    "# data comes from subject1, floc session from NSD dataset.\n",
    "# https://www.biorxiv.org/content/10.1101/2021.02.22.432340v1.full.pdf\n",
    "\n",
    "datafn = join(datadir,'nsdflocexampledataset.mat')\n",
    "\n",
    "# to save time, we'll skip the download if the example dataset already exists on disk\n",
    "if not exists(datafn):\n",
    "    \n",
    "    print(f'Downloading example dataset and saving to:\\n{datafn}')\n",
    "    \n",
    "    dataurl = 'https://osf.io/g42tm/download'\n",
    "    \n",
    "    # download the .mat file to the specified directory\n",
    "    urllib.request.urlretrieve(dataurl, datafn)\n",
    "    \n",
    "# load struct containing example dataset\n",
    "X = sio.loadmat(datafn)"
   ]
  },
  {
   "cell_type": "code",
   "execution_count": null,
   "id": "4eb32d30",
   "metadata": {},
   "outputs": [],
   "source": [
    "# variables that will contain bold time-series and design matrices from each run\n",
    "data = []\n",
    "design = []\n",
    "\n",
    "nruns = len(X['data'][0])\n",
    "\n",
    "# iterate through each run of data\n",
    "#This creates a design file with each row corresponding to a TR of data\n",
    "for r in range(nruns):\n",
    "    \n",
    "    # index into struct, append each run's timeseries data to list\n",
    "    data.append(X['data'][0,r])\n",
    "    \n",
    "    # convert each run design matrix from sparse array to full numpy array, append\n",
    "    design.append(scipy.sparse.csr_matrix.toarray(X['design'][0,r]))\n",
    "    \n",
    "# get shape of data volume (XYZ) for convenience\n",
    "xyz = data[0].shape[:3]\n",
    "xyzt = data[0].shape\n",
    "\n",
    "# get total number of blocks - this will be the dimensionality of output betas from GLMsingle\n",
    "nblocks = int(np.sum(np.concatenate(design)))\n",
    "\n",
    "# get metadata about stimulus duration and TR\n",
    "stimdur = X['stimdur'][0][0]\n",
    "tr = X['tr'][0][0]"
   ]
  },
  {
   "cell_type": "code",
   "execution_count": 11,
   "id": "6b18dbe2",
   "metadata": {},
   "outputs": [
    {
     "data": {
      "text/plain": [
       "(234, 10)"
      ]
     },
     "execution_count": 11,
     "metadata": {},
     "output_type": "execute_result"
    }
   ],
   "source": [
    "design[0].shape"
   ]
  },
  {
   "cell_type": "code",
   "execution_count": 12,
   "id": "a6d85170",
   "metadata": {},
   "outputs": [],
   "source": [
    "#convert design[0] to a pandas DataFrame\n",
    "# this will be useful for plotting later\n",
    "design_df = pd.DataFrame(design[0], columns=['cond1', 'cond2', 'cond3', 'cond4', 'cond5', 'cond6', 'cond7', 'cond8', 'cond9', 'cond10'])"
   ]
  }
 ],
 "metadata": {
  "kernelspec": {
   "display_name": "fmri",
   "language": "python",
   "name": "python3"
  },
  "language_info": {
   "codemirror_mode": {
    "name": "ipython",
    "version": 3
   },
   "file_extension": ".py",
   "mimetype": "text/x-python",
   "name": "python",
   "nbconvert_exporter": "python",
   "pygments_lexer": "ipython3",
   "version": "3.13.5"
  }
 },
 "nbformat": 4,
 "nbformat_minor": 5
}
