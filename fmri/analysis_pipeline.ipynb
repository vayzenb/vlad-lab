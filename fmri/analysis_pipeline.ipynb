{
 "cells": [
  {
   "cell_type": "markdown",
   "id": "36fc69fe",
   "metadata": {},
   "source": [
    "## fMRI pipeline for adult participants\n",
    "\n",
    "This is a simple fMRI pipeline for adult participants. "
   ]
  },
  {
   "cell_type": "markdown",
   "id": "6d30e761",
   "metadata": {},
   "source": [
    "### Preprocessing\n",
    "\n",
    "Preprocessing is carried out using the `fmriprep` tool, which is a robust and widely used tool for preprocessing fMRI data. The following steps are included:\n",
    "- **Motion Correction**: Aligns the fMRI images to correct for head motion.\n",
    "- **Slice Timing Correction**: Adjusts for differences in acquisition time between slices.\n",
    "- **Spatial Normalization**: Maps the fMRI images to a standard brain template.\n",
    "- **Intensity Normalization**: Normalizes the intensity of the fMRI images.\n",
    "\n",
    "Prior to running `fmriprep`, ensure that the following directories are set up in [BIDS](https://bids.neuroimaging.io/getting_started/folders_and_files/folders.html) :\n",
    "- The project root directory should contain:\n",
    "  - `dataset_description.json`: A JSON file describing the dataset.\n",
    "  - `participants.tsv`: A TSV file listing the participants.\n",
    "  - `README`: A text file providing an overview of the dataset.\n",
    "  - `sub-<participant_id>/ses-<session_id>`: A directory for each participant containing their fMRI data.\n",
    "    - Each participant directory should contain:\n",
    "      - `func/`: A directory for functional MRI data.\n",
    "      - `anat/`: A directory for anatomical MRI data.\n",
    "      - `dwi/`: A directory for diffusion-weighted imaging data (if applicable).\n",
    "      - `events.tsv`: A TSV file listing the events for the participant.\n",
    "- `derivatives/`: Will contain the preprocessed data."
   ]
  },
  {
   "cell_type": "markdown",
   "id": "e6628e6e",
   "metadata": {},
   "source": [
    "#### Example command to run `fmriprep`:\n",
    "\n",
    "```bash\n",
    "\n",
    "input_directory=/zpool/vladlab/data_drive/fmri_tutorial # The dataset to process\n",
    "target_directory=/zpool/vladlab/data_drive/fmri_tutorial/derivatives # The directory to store the preprocessed data\n",
    "subject=spaceloc1001 # The subject to process\n",
    "\n",
    "# Here's a example command with a breakdown of common optoins\n",
    "\n",
    "fmriprep-docker $input_directory $target_directory \\ #the directories to process\n",
    "    participant \\ # the mode to run\n",
    "    --participant-label $subject \\ # the subject to process\n",
    "    --fs-license-file $FREESURFER_HOME/license.txt \\ # the location of the FreeSurfer license file\n",
    "    --output-spaces T1w MNI152NLin2009cAsym \\ # registers the space to the subject's T1w space and the MNI152NLin2009cAsym standard space\n",
    "    --bold2anat-dof 12 \\ # the degrees of freedom for the BOLD to anatomical registration\n",
    "    --fs-no-reconall \\ # do not run FreeSurfer's recon-all (this adds a lot of time)\n",
    "\n",
    "#example command \n",
    "fmriprep-docker $input_directory $target_directory participant --participant-label $subject --fs-license-file $FREESURFER_HOME/license.txt --output-spaces T1w MNI152NLin2009cAsym --bold2anat-dof 12 --fs-no-reconall --skip_bids_validation\n",
    "\n",
    "```"
   ]
  },
  {
   "cell_type": "code",
   "execution_count": 2,
   "id": "a3f9ee13",
   "metadata": {},
   "outputs": [],
   "source": [
    "import glmsingle"
   ]
  }
 ],
 "metadata": {
  "kernelspec": {
   "display_name": "fmri",
   "language": "python",
   "name": "python3"
  },
  "language_info": {
   "codemirror_mode": {
    "name": "ipython",
    "version": 3
   },
   "file_extension": ".py",
   "mimetype": "text/x-python",
   "name": "python",
   "nbconvert_exporter": "python",
   "pygments_lexer": "ipython3",
   "version": "3.13.5"
  }
 },
 "nbformat": 4,
 "nbformat_minor": 5
}
